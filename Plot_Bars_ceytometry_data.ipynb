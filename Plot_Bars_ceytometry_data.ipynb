{
 "cells": [
  {
   "cell_type": "code",
   "execution_count": 2,
   "metadata": {
    "collapsed": true
   },
   "outputs": [],
   "source": [
    "import seaborn as sns\n",
    "import matplotlib.pyplot as plt\n",
    "import pandas as pd\n",
    "import numpy as np"
   ]
  },
  {
   "cell_type": "code",
   "execution_count": 3,
   "metadata": {
    "collapsed": true
   },
   "outputs": [],
   "source": [
    "data_path_5 = \"./Data/mean_std_ceytometry_SMAF.csv\"\n",
    "SMAF = np.loadtxt(open(data_path_5),delimiter=\",\",skiprows=0)\n",
    "#print(SMAF.shape)\n",
    "\n",
    "\n",
    "data_path_3 = \"./Data/DeepAE distictc measurements_ceytometry.csv\"\n",
    "data_measurement = np.loadtxt(open(data_path_3),delimiter=\",\",skiprows=0)\n",
    "\n",
    "\n",
    "PCC_3 = data_measurement[:,(9,6,3,0)]\n",
    "EM_3 = data_measurement[:,(10,7,4,1)]\n",
    "MAE_3 = data_measurement[:,(11,8,5,2)]"
   ]
  },
  {
   "cell_type": "code",
   "execution_count": 5,
   "metadata": {},
   "outputs": [
    {
     "data": {
      "text/plain": [
       "array([[4.19529825e-01, 1.88441942e+05, 1.98631601e+05],\n",
       "       [3.73924797e-01, 1.34536862e+04, 2.79075384e+04],\n",
       "       [6.29275365e-01, 1.88579065e+05, 1.98883414e+05],\n",
       "       [1.05387739e-01, 1.31484104e+04, 2.72954700e+04],\n",
       "       [6.90446096e-01, 1.88517133e+05, 1.98760783e+05],\n",
       "       [1.21353452e-01, 1.32120283e+04, 2.73944727e+04],\n",
       "       [7.23355256e-01, 1.88146630e+05, 1.97987888e+05],\n",
       "       [8.73146130e-02, 1.32506368e+04, 2.74440641e+04],\n",
       "       [5.58154284e-01, 1.87180939e+05, 1.95947973e+05],\n",
       "       [1.60494037e-01, 1.30738779e+04, 2.69544365e+04],\n",
       "       [7.29681520e-01, 1.87968951e+05, 1.97593269e+05],\n",
       "       [8.28791640e-02, 1.30602342e+04, 2.70157226e+04],\n",
       "       [7.52807220e-01, 1.87882426e+05, 1.97437923e+05],\n",
       "       [1.06467465e-01, 1.32801987e+04, 2.74708191e+04],\n",
       "       [7.30344479e-01, 1.87524682e+05, 1.96712719e+05],\n",
       "       [8.89440100e-02, 1.34728238e+04, 2.77647263e+04],\n",
       "       [5.46627350e-01, 1.86237169e+05, 1.94001880e+05],\n",
       "       [1.41627315e-01, 1.32207360e+04, 2.71232972e+04],\n",
       "       [7.69301899e-01, 1.87034043e+05, 1.95689812e+05],\n",
       "       [9.56647750e-02, 1.34801070e+04, 2.77310409e+04],\n",
       "       [7.52550852e-01, 1.86917359e+05, 1.95428975e+05],\n",
       "       [1.03998739e-01, 1.33315201e+04, 2.73965191e+04],\n",
       "       [7.45384323e-01, 1.86038576e+05, 1.93595063e+05],\n",
       "       [7.61362960e-02, 1.32635083e+04, 2.71526049e+04],\n",
       "       [5.91694201e-01, 1.83708543e+05, 1.89015096e+05],\n",
       "       [1.49928642e-01, 1.50057152e+04, 3.03672041e+04],\n",
       "       [7.74713168e-01, 1.85164789e+05, 1.91877635e+05],\n",
       "       [9.61754140e-02, 1.40001706e+04, 2.85147476e+04],\n",
       "       [7.74690919e-01, 1.85450010e+05, 1.92451165e+05],\n",
       "       [1.02588419e-01, 1.38765851e+04, 2.83042502e+04],\n",
       "       [7.55644711e-01, 1.83744422e+05, 1.88945775e+05],\n",
       "       [8.41836330e-02, 1.38973856e+04, 2.81037666e+04]])"
      ]
     },
     "execution_count": 5,
     "metadata": {},
     "output_type": "execute_result"
    }
   ],
   "source": [
    "SMAF"
   ]
  },
  {
   "cell_type": "code",
   "execution_count": 19,
   "metadata": {},
   "outputs": [
    {
     "data": {
      "image/png": "[encoded data removed]",
      "text/plain": [
       "<matplotlib.figure.Figure at 0x20252ec7978>"
      ]
     },
     "metadata": {},
     "output_type": "display_data"
    }
   ],
   "source": [
    "ind = np.arange(4)  # the x locations for the groups\n",
    "width = 0.15  # the width of the bars\n",
    "color_list = plt.cm.Set3(np.linspace(0, 1, 12))\n",
    "\n",
    "from matplotlib import rcParams\n",
    "rcParams.update({'font.size': 14, 'font.family': 'STIXGeneral'})\n",
    "\n",
    "from matplotlib import ticker\n",
    "formatter = ticker.ScalarFormatter(useMathText=True)\n",
    "formatter.set_scientific(True) \n",
    "formatter.set_powerlimits((0,1))\n",
    "\n",
    "fig, axes = plt.subplots(nrows=1,ncols=3, figsize=(15,4))\n",
    "\n",
    "\n",
    "rects1 = axes[0].bar(ind - width/2 - 2*width, SMAF[(2,10,18,26),0], \n",
    "                       width, yerr=SMAF[(3,11,19,27),0], color=color_list[0], label='SVD')\n",
    "rects2 = axes[0].bar(ind - width/2 - width, SMAF[(4,12,20,28),0],  \n",
    "                       width, yerr=SMAF[(5,13,21,29),0], color=color_list[7], label='k-SVD')\n",
    "rects3 = axes[0].bar(ind - width/2, SMAF[(6,14,22,30),0],  \n",
    "                       width, yerr=SMAF[(7,15,23,31),0], color=color_list[2], label='sNMF')\n",
    "rects4 = axes[0].bar(ind + width/2, SMAF[(0,8,16,24),0],  \n",
    "                       width, yerr=SMAF[(1,9,17,25),0], color=color_list[3], label='CS-SMAF')\n",
    "rects5 = axes[0].bar(ind + width/2 + width,   np.mean(PCC_3[0:5, :], axis=0),  \n",
    "                       width, yerr=np.std(PCC_3[0:5, :], axis=0), color=color_list[4], label='DeepAE')\n",
    "axes[0].set_ylabel('PCC')\n",
    "axes[0].set_xticks(ind)\n",
    "axes[0].set_ylim(0.4,1)\n",
    "axes[0].set_xticklabels(('10', '25', '50', '100'))\n",
    "#axes[0,0].set_title('GSE45234')\n",
    "\n",
    "\n",
    "rects1 = axes[1].bar(ind - width/2 - 2*width, SMAF[(2,10,18,26),1], \n",
    "                       width, yerr=SMAF[(3,11,19,27),0], color=color_list[0], label='SVD')\n",
    "rects2 = axes[1].bar(ind - width/2 - width, SMAF[(4,12,20,28),1],  \n",
    "                       width, yerr=SMAF[(5,13,21,29),0], color=color_list[7], label='k-SVD')\n",
    "rects3 = axes[1].bar(ind - width/2, SMAF[(6,14,22,30),1],  \n",
    "                       width, yerr=SMAF[(7,15,23,31),0], color=color_list[2], label='sNMF')\n",
    "rects4 = axes[1].bar(ind + width/2, SMAF[(0,8,16,24),1],  \n",
    "                       width, yerr=SMAF[(1,9,17,25),1], color=color_list[3], label='CS-SMAF')\n",
    "rects5 = axes[1].bar(ind + width/2 + width, np.mean(EM_3[0:5, :], axis=0),  \n",
    "                       width, yerr=np.std(EM_3[0:5, :], axis=0), color=color_list[4], label='DeepAE')\n",
    "\n",
    "axes[1].set_ylabel('EM')\n",
    "axes[1].set_xticks(ind)\n",
    "axes[1].set_xticklabels(('10', '25', '50', '100'))\n",
    "axes[1].set_title('Mass cytometry data')\n",
    "axes[1].yaxis.set_major_formatter(formatter) \n",
    "axes[1].set_xlabel('Measurements')\n",
    "\n",
    "\n",
    "rects1 = axes[2].bar(ind - width/2 - 2*width, SMAF[(2,10,18,26),2], \n",
    "                       width, yerr=SMAF[(3,11,19,27),0], color=color_list[0], label='SVD')\n",
    "rects2 = axes[2].bar(ind - width/2 - width, SMAF[(4,12,20,28),2],  \n",
    "                       width, yerr=SMAF[(5,13,21,29),2], color=color_list[7], label='k-SVD')\n",
    "rects3 = axes[2].bar(ind - width/2, SMAF[(6,14,22,30),2],  \n",
    "                       width, yerr=SMAF[(7,15,23,31),0], color=color_list[2], label='sNMF')\n",
    "rects4 = axes[2].bar(ind + width/2, SMAF[(0,8,16,24),2],  \n",
    "                       width, yerr=SMAF[(1,9,17,25),2], color=color_list[3], label='CS-SMAF')\n",
    "rects5 = axes[2].bar(ind + width/2 + width, np.mean(MAE_3[0:5, :], axis=0),  \n",
    "                       width, yerr=np.std(MAE_3[0:5, :], axis=0), color=color_list[4], label='DeepAE')\n",
    "\n",
    "axes[2].set_ylabel('MAE')\n",
    "axes[2].set_xticks(ind)\n",
    "axes[2].set_xticklabels(('10', '25', '50', '100'))\n",
    "#axes[0,2].set_title('GSE45234')\n",
    "axes[2].yaxis.set_major_formatter(formatter) \n",
    "axes[2].legend(loc=1)\n",
    "\n",
    "plt.show()\n",
    "fig.savefig('./Data/ceytomtry.pdf', dpi=200, bbox_inches='tight')"
   ]
  },
  {
   "cell_type": "code",
   "execution_count": 15,
   "metadata": {},
   "outputs": [
    {
     "data": {
      "text/plain": [
       "array([0.62927537, 0.72968152, 0.7693019 , 0.77471317])"
      ]
     },
     "execution_count": 15,
     "metadata": {},
     "output_type": "execute_result"
    }
   ],
   "source": [
    "SMAF[(2,10,18,26),0]"
   ]
  },
  {
   "cell_type": "code",
   "execution_count": null,
   "metadata": {},
   "outputs": [],
   "source": []
  },
  {
   "cell_type": "code",
   "execution_count": null,
   "metadata": {
    "collapsed": true
   },
   "outputs": [],
   "source": []
  }
 ],
 "metadata": {
  "kernelspec": {
   "display_name": "Python 3",
   "language": "python",
   "name": "python3"
  },
  "language_info": {
   "codemirror_mode": {
    "name": "ipython",
    "version": 3
   },
   "file_extension": ".py",
   "mimetype": "text/x-python",
   "name": "python",
   "nbconvert_exporter": "python",
   "pygments_lexer": "ipython3",
   "version": "3.6.2"
  }
 },
 "nbformat": 4,
 "nbformat_minor": 2
}
